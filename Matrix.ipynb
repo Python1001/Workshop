{
 "cells": [
  {
   "cell_type": "code",
   "execution_count": null,
   "metadata": {
    "collapsed": true
   },
   "outputs": [],
   "source": [
    "import numpy as np"
   ]
  },
  {
   "cell_type": "code",
   "execution_count": null,
   "metadata": {
    "collapsed": true
   },
   "outputs": [],
   "source": [
    "x=np.array([[3,2,1],[4,5,6]],float) #2x3"
   ]
  },
  {
   "cell_type": "code",
   "execution_count": null,
   "metadata": {
    "collapsed": true
   },
   "outputs": [],
   "source": [
    "y=np.array([[1,2],[3,3],[4,5]],float) #3x2"
   ]
  },
  {
   "cell_type": "code",
   "execution_count": null,
   "metadata": {},
   "outputs": [],
   "source": [
    "np.dot(x,y)"
   ]
  },
  {
   "cell_type": "code",
   "execution_count": null,
   "metadata": {
    "collapsed": true
   },
   "outputs": [],
   "source": [
    "x=np.matrix(\"3,2,1;4,5,6\") #2x3"
   ]
  },
  {
   "cell_type": "code",
   "execution_count": null,
   "metadata": {
    "collapsed": true
   },
   "outputs": [],
   "source": [
    "y=np.matrix(\"1,2;3,3;4,5\") #3x2"
   ]
  },
  {
   "cell_type": "code",
   "execution_count": null,
   "metadata": {},
   "outputs": [],
   "source": [
    "x*y"
   ]
  },
  {
   "cell_type": "code",
   "execution_count": null,
   "metadata": {
    "collapsed": true
   },
   "outputs": [],
   "source": [
    "from scipy.stats import norm"
   ]
  },
  {
   "cell_type": "code",
   "execution_count": null,
   "metadata": {},
   "outputs": [],
   "source": [
    "norm.cdf(0) #test the import module"
   ]
  },
  {
   "cell_type": "code",
   "execution_count": null,
   "metadata": {
    "collapsed": true
   },
   "outputs": [],
   "source": [
    "#https://docs.scipy.org/doc/scipy-0.19.0/reference/generated/scipy.interpolate.interp1d.html"
   ]
  },
  {
   "cell_type": "code",
   "execution_count": null,
   "metadata": {},
   "outputs": [],
   "source": [
    "import numpy as np\n",
    "import matplotlib.pyplot as plt\n",
    "from scipy.interpolate import interp1d\n",
    "x = np.linspace(0, 10, 5) # from 0 to 10, 5 points are drawn\n",
    "y = np.exp(x/2.0)\n",
    "f = interp1d(x, y) #linear interpolation\n",
    "f1 = interp1d(x, y, kind='cubic') #Cubic interpolation\n",
    "xnew = np.linspace(0, 10, 1000)\n",
    "plt.plot(x,y,'o',xnew,f(xnew),'-', xnew, f1(xnew),'--')\n",
    "plt.legend(['data', 'linear', 'cubic'], loc='best')\n",
    "plt.show()"
   ]
  },
  {
   "cell_type": "code",
   "execution_count": null,
   "metadata": {
    "collapsed": true
   },
   "outputs": [],
   "source": [
    "import scipy as sp\n",
    "from scipy.stats import norm\n",
    "\n",
    "x =sp.random.rand(5) # 5 random numbers from [0,1)\n",
    "y =sp.random.rand(3,2) # random numbers 5 by 2 array\n"
   ]
  },
  {
   "cell_type": "code",
   "execution_count": null,
   "metadata": {},
   "outputs": [],
   "source": [
    "x , y"
   ]
  },
  {
   "cell_type": "code",
   "execution_count": null,
   "metadata": {
    "collapsed": true
   },
   "outputs": [],
   "source": [
    "#Comparsion between simple and compund interest rates\n",
    "import numpy as np\n",
    "from matplotlib.pyplot import *\n",
    "from pylab import *"
   ]
  },
  {
   "cell_type": "code",
   "execution_count": null,
   "metadata": {},
   "outputs": [],
   "source": [
    "np.ones(5)\n"
   ]
  },
  {
   "cell_type": "code",
   "execution_count": null,
   "metadata": {
    "collapsed": true
   },
   "outputs": [],
   "source": [
    "pv=10000.0\n",
    "r=0.1\n",
    "n=10\n",
    "t=linspace(0,n,n)\n",
    "a=np.ones(len(t))*pv # this is a horizontal line\n",
    "b=pv*(1+r*t) #linear\n",
    "c=pv*(1+r)**t #exponential"
   ]
  },
  {
   "cell_type": "code",
   "execution_count": null,
   "metadata": {},
   "outputs": [],
   "source": [
    "title('Simple vs. compounded interest rates')\n",
    "xlabel('Number of years')\n",
    "ylabel('Values')\n",
    "xlim(0,11)\n",
    "ylim(5000,28000)\n",
    "plot(t, a, 'r-')\n",
    "plot(t, b, 'b--')\n",
    "plot(t, c, 'g-')\n",
    "show()"
   ]
  },
  {
   "cell_type": "code",
   "execution_count": null,
   "metadata": {},
   "outputs": [],
   "source": [
    "import scipy as sp\n",
    "cashflows=[-100,50,60,70] #cashflow of a project\n",
    "rate=0.05 #effective interest rate\n",
    "npv=sp.npv(rate,cashflows[1:])+cashflows[0]\n",
    "round(npv,3) #round to the third decemial place"
   ]
  },
  {
   "cell_type": "code",
   "execution_count": null,
   "metadata": {
    "collapsed": true
   },
   "outputs": [],
   "source": [
    "import numpy as np\n",
    "import matplotlib.pyplot as plt\n",
    "year=[2012,2013,2014,2015,2016]\n",
    "ret_A=[0.112,-0.05, 0.263,0.13,0.15] # returns of stock A\n",
    "ret_B=[0.1047,0.26, 0.065,0.27,0.13] # returns of stock B"
   ]
  },
  {
   "cell_type": "code",
   "execution_count": null,
   "metadata": {
    "collapsed": true
   },
   "outputs": [],
   "source": [
    "port_EW=(np.array(ret_A)+np.array(ret_B))/2"
   ]
  },
  {
   "cell_type": "code",
   "execution_count": null,
   "metadata": {},
   "outputs": [],
   "source": [
    "#plt.figtext(0.2,0.5,\"Stock A\")\n",
    "#plt.figtext(0.2,0.5,\"Stock B\")\n",
    "plt.xlabel(\"Year\")\n",
    "plt.ylabel(\"Stock Returns\")\n",
    "plt.plot(year,ret_A,lw=3) # 3 = depth of colors\n",
    "plt.plot(year,ret_B,lw=3)\n",
    "plt.plot(year,port_EW,lw=3)\n",
    "plt.title(\"Indiviudal stocks vs. an equal-weighted 2-stock portflio\")\n",
    "plt.annotate('Equal-weighted Portfolio', xy=(2013, 0.1), xytext=(2014.,0) \n",
    ",arrowprops=dict(facecolor='black',shrink=0.05), ) # indicate the position of the pointer\n",
    "plt.ylim(-0.1,0.3)\n",
    "plt.show()"
   ]
  },
  {
   "cell_type": "code",
   "execution_count": null,
   "metadata": {},
   "outputs": [],
   "source": [
    "import scipy as sp\n",
    "sp.corrcoef(ret_A,ret_B)"
   ]
  },
  {
   "cell_type": "code",
   "execution_count": null,
   "metadata": {
    "collapsed": true
   },
   "outputs": [],
   "source": []
  }
 ],
 "metadata": {
  "kernelspec": {
   "display_name": "Python 3",
   "language": "python",
   "name": "python3"
  },
  "language_info": {
   "codemirror_mode": {
    "name": "ipython",
    "version": 3
   },
   "file_extension": ".py",
   "mimetype": "text/x-python",
   "name": "python",
   "nbconvert_exporter": "python",
   "pygments_lexer": "ipython3",
   "version": "3.6.0"
  }
 },
 "nbformat": 4,
 "nbformat_minor": 2
}
