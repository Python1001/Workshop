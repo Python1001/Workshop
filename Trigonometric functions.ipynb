{
 "cells": [
  {
   "cell_type": "markdown",
   "metadata": {},
   "source": [
    "# Trigonometric functions"
   ]
  },
  {
   "cell_type": "code",
   "execution_count": null,
   "metadata": {},
   "outputs": [],
   "source": [
    "#import module named “math”\n",
    "import math\n",
    "\n",
    "#calculate cos(2*pi) by recalling functions from “math”\n",
    "math.cos(2 * math.pi)\n"
   ]
  },
  {
   "cell_type": "code",
   "execution_count": null,
   "metadata": {},
   "outputs": [],
   "source": [
    "#import module named “math”\n",
    "from math import *\n",
    "\n",
    "#calculate cos(2*pi) by recalling functions from “math”\n",
    "cos(2 * pi)\n"
   ]
  },
  {
   "cell_type": "code",
   "execution_count": null,
   "metadata": {},
   "outputs": [],
   "source": [
    "#import cos and pi functions from module “math”\n",
    "from math import cos, pi\n",
    "\n",
    "#calculate cos(2*pi) by recalling functions from “math”\n",
    "cos(2 * pi)\n"
   ]
  },
  {
   "cell_type": "code",
   "execution_count": null,
   "metadata": {},
   "outputs": [],
   "source": [
    "#import module named “math” with prefix “ma”\n",
    "import math as ma\n",
    "\n",
    "#calculate cos(2*pi) by recalling functions from “math”\n",
    "ma.cos(2 * ma.pi)\n"
   ]
  },
  {
   "cell_type": "code",
   "execution_count": null,
   "metadata": {},
   "outputs": [],
   "source": [
    "import numpy as np\n",
    "import math\n",
    "import matplotlib.pyplot as plt\n",
    "x = np.linspace(0, 2*math.pi)\n",
    "plt.plot(x, np.sin(x), label=r'$\\sin(x)$')\n",
    "plt.plot(x, np.cos(x), 'ro', label=r'$\\cos(x)$')\n",
    "plt.title(r'Two in a graph')\n",
    "plt.legend()\n",
    "plt.show()"
   ]
  },
  {
   "cell_type": "code",
   "execution_count": null,
   "metadata": {},
   "outputs": [],
   "source": [
    "import numpy as np\n",
    "import math\n",
    "import matplotlib.pyplot as plt\n",
    "x = np.linspace(0, 2*math.pi)\n",
    "plt.plot(x, np.sin(x), '*', label=r'$\\sin(x)$')\n",
    "plt.plot(x, np.cos(x), 'ro', label=r'$\\cos(x)$')\n",
    "plt.title(r'Two in a graph')\n",
    "plt.legend()\n",
    "plt.show()"
   ]
  },
  {
   "cell_type": "code",
   "execution_count": null,
   "metadata": {
    "collapsed": true
   },
   "outputs": [],
   "source": [
    "#https://matplotlib.org/api/pyplot_api.html"
   ]
  }
 ],
 "metadata": {
  "kernelspec": {
   "display_name": "Python 3",
   "language": "python",
   "name": "python3"
  },
  "language_info": {
   "codemirror_mode": {
    "name": "ipython",
    "version": 3
   },
   "file_extension": ".py",
   "mimetype": "text/x-python",
   "name": "python",
   "nbconvert_exporter": "python",
   "pygments_lexer": "ipython3",
   "version": "3.6.0"
  }
 },
 "nbformat": 4,
 "nbformat_minor": 1
}
